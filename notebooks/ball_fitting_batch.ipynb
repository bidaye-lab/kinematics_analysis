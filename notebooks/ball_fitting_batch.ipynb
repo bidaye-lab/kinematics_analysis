{
 "cells": [
  {
   "cell_type": "code",
   "execution_count": null,
   "id": "b7c40c50",
   "metadata": {},
   "outputs": [],
   "source": [
    "%load_ext autoreload\n",
    "%autoreload 2\n",
    "\n",
    "from pathlib import Path\n",
    "\n",
    "from src import (\n",
    "    data_loader as dl,\n",
    "    batch_helpers as bh,\n",
    ")\n",
    "from src.xyz_trajectory import generate_xyz as xyz"
   ]
  },
  {
   "cell_type": "markdown",
   "id": "7e105008",
   "metadata": {},
   "source": [
    "# Run ball fitting in batch mode\n",
    "\n",
    "First, we load the data structure, which is a dictionary of DataFrames.\n",
    "\n",
    "Then, we choose one of the DataFrames for further processing.\n",
    "\n",
    "Next, we define `out_folder` as the folder where the plots will be saved.\n",
    "`params_path` is the file where the fitting parameters will be saved."
   ]
  },
  {
   "cell_type": "code",
   "execution_count": null,
   "id": "4564ef54",
   "metadata": {},
   "outputs": [],
   "source": [
    "# load data\n",
    "cfg = dl.load_config(\"config.yml\")\n",
    "data = dl.load_data_hdf(cfg[\"datafile\"])\n",
    "\n",
    "# chose dataset\n",
    "name = \"BDN2\"\n",
    "df = data[name]\n",
    "\n",
    "# output folder\n",
    "out_folder = Path(cfg[\"output_folder\"]) / f\"ball_predictions/{name}/\"\n",
    "\n",
    "# parameter file\n",
    "params_path = out_folder / \"fit_params.yml\"\n",
    "\n",
    "# output file with ball prediction columns added\n",
    "output_file = out_folder / \"df_ballpredictn.parquet\""
   ]
  },
  {
   "cell_type": "markdown",
   "id": "a6ab01df",
   "metadata": {},
   "source": [
    "The `refine_fit_wrapper` function will cycle through all flies in `df`\n",
    "and fit the ball with the default parameter set defined in the `cfg` file.\n",
    "For each fly it will create a subfolder in `out_folder` and the following plots:\n",
    "- `r_distr_trial_{tnum}.png`\n",
    "- `stepcycles_trial_{tnum}.png`\n",
    "See `ball_fitting_example.py` for an explanation of the plots and parameters.\n",
    "\n",
    "Furthermore, the `params_path` file will be created after the first run,\n",
    "containing the fitting parameters used for each fly.\n",
    "The `params_path` file contains 'old' and a 'new' parameter set.\n",
    "If you modify the 'new' parameter set, the fitting will be rerun.\n",
    "\n",
    "You can now:\n",
    "- modify the 'global' parameter set will apply the new parameters to all flies\n",
    "- modify either of the 'fly_{flynum}' parameter sets will only affect that fly\n",
    "\n",
    "Running `refine_fit_wrapper` again will look for changes in the `params_path` file\n",
    "and rerun the analysis for the flies that have been modified."
   ]
  },
  {
   "cell_type": "code",
   "execution_count": null,
   "id": "a66e844d",
   "metadata": {},
   "outputs": [],
   "source": [
    "# (re)run fitting\n",
    "bh.refine_fit_wrapper(df, out_folder, params_path, cfg[\"ball_fitting_defaults\"])"
   ]
  },
  {
   "cell_type": "markdown",
   "id": "d4576b9b",
   "metadata": {},
   "source": [
    "Once you are happy with the results, you can run the `add_stepcycle` function.\n",
    "This will read the latest parameters from `params_path` and add the\n",
    "stepcycle predictions as well as the distances of all points from the ball center to the `df` DataFrame.\n",
    "\n",
    "Finally, we write the updated DataFrame to the original data file (or write to a new file if you prefer)."
   ]
  },
  {
   "cell_type": "code",
   "execution_count": null,
   "id": "e369c2f8",
   "metadata": {},
   "outputs": [],
   "source": [
    "# add stepcycle predictions to df based on refined parameters\n",
    "bh.add_stepcyles(df, params_path)\n",
    "\n",
    "# add back to data dict\n",
    "data[name] = df\n",
    "\n",
    "# save to disk\n",
    "dl.write_data_dict(data, output_file)"
   ]
  },
  {
   "cell_type": "markdown",
   "id": "7da555b7",
   "metadata": {},
   "source": [
    "# generate XYZ files for all fits"
   ]
  },
  {
   "cell_type": "code",
   "execution_count": null,
   "id": "a2e862f5",
   "metadata": {},
   "outputs": [],
   "source": [
    "# generate files for all data\n",
    "for gen, df_gen in data.items():\n",
    "    print(f\"INFO generating xyz for {gen}\")\n",
    "    for flynum, df_fly in df_gen.groupby(\"flynum\"):\n",
    "        ball = [\n",
    "            df.loc[:, \"x_ball\"].unique().item(),\n",
    "            df.loc[:, \"y_ball\"].unique().item(),\n",
    "            df.loc[:, \"z_ball\"].unique().item(),\n",
    "        ], \n",
    "        r = df.loc[:, \"r_ball\"].unique().item()\n",
    "        xyz.write_xyz(df_fly, out_name=f\"{gen}_fly{flynum}.xyz\", split=1400, ball=ball)\n",
    "        print(f'INFO gen {gen} | fly {flynum} | r_ball {r}')"
   ]
  }
 ],
 "metadata": {
  "jupytext": {
   "cell_metadata_filter": "-all",
   "custom_cell_magics": "kql"
  },
  "kernelspec": {
   "display_name": "kine",
   "language": "python",
   "name": "python3"
  }
 },
 "nbformat": 4,
 "nbformat_minor": 5
}
