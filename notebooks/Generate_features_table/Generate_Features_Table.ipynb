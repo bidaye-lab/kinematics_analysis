{
 "cells": [
  {
   "cell_type": "code",
   "execution_count": 290,
   "metadata": {},
   "outputs": [
    {
     "name": "stdout",
     "output_type": "stream",
     "text": [
      "The autoreload extension is already loaded. To reload it, use:\n",
      "  %reload_ext autoreload\n"
     ]
    }
   ],
   "source": [
    "%load_ext autoreload\n",
    "%autoreload 2\n",
    "\n",
    "from pathlib import Path\n",
    "import pandas as pd\n",
    "\n",
    "from src2 import (\n",
    "    feature_extract as feat\n",
    ")"
   ]
  },
  {
   "cell_type": "markdown",
   "metadata": {},
   "source": [
    "# Read and clean data"
   ]
  },
  {
   "cell_type": "code",
   "execution_count": 271,
   "metadata": {},
   "outputs": [],
   "source": [
    "## Read the parquiet files with the raw data for each individual genotype\n",
    "## If the parquet file contains columns for any genotype other than the one it was pre-processed for, extract only the correct genotype from the table\n",
    "\n",
    "BPN = pd.read_parquet(Path(r'C:\\2_P9Project_allData\\1_DataStructure\\ball_predictions\\BPN\\df_ballpredictn.parquet', engine = 'pyarrow'))\n",
    "BPN = BPN.loc[BPN['genotype'] == 'BPN']\n",
    "\n",
    "P9LT = pd.read_parquet(Path(r\"C:\\2_P9Project_allData\\1_DataStructure\\ball_predictions\\P9LT\\df_ballpredictn.parquet\", engine = 'pyarrow'))\n",
    "P9LT = P9LT.loc[P9LT['genotype'] == 'P9LT']\n",
    "\n",
    "P9RT = pd.read_parquet(Path(r\"C:\\2_P9Project_allData\\1_DataStructure\\ball_predictions\\P9RT\\df_ballpredictn.parquet\", engine = 'pyarrow'))\n",
    "P9RT = P9RT.loc[P9RT['genotype'] == 'P9RT']"
   ]
  },
  {
   "cell_type": "code",
   "execution_count": 296,
   "metadata": {},
   "outputs": [],
   "source": [
    "## Removing badly tracked flies \n",
    "P9LT_remove = [6, 8]\n",
    "P9LT = P9LT[~P9LT.flynum.isin(P9LT_remove)]\n",
    "\n",
    "P9RT_remove = [6, 11, 13]\n",
    "P9RT = P9RT[~P9RT.flynum.isin(P9RT_remove)]\n",
    "\n",
    "BPN_remove = [10]\n",
    "BPN = BPN[~BPN.flynum.isin(BPN_remove)]"
   ]
  },
  {
   "cell_type": "markdown",
   "metadata": {},
   "source": [
    "# Generate Tables"
   ]
  },
  {
   "cell_type": "code",
   "execution_count": 293,
   "metadata": {},
   "outputs": [
    {
     "name": "stdout",
     "output_type": "stream",
     "text": [
      "INFO: Extracting data for  (1, 1)\n"
     ]
    }
   ],
   "source": [
    "P9LT_60 = feat.smoothed_table(P9LT.iloc[:1400, :], 60)"
   ]
  },
  {
   "cell_type": "code",
   "execution_count": null,
   "metadata": {},
   "outputs": [],
   "source": [
    "## bin size defined in frames; 1 frame = 5ms. \n",
    "## bin size should be chosen such that at least two full step cycles are included in each window.\n",
    "## If too small a window is chosen, there will be bins where not a single step was completed and this will result in 'Nan' values for parameters\n",
    "bin_size = 60\n",
    "P9LT_60 = feat.smoothed_table(P9LT, bin_size)"
   ]
  },
  {
   "cell_type": "code",
   "execution_count": null,
   "metadata": {},
   "outputs": [],
   "source": [
    "# P9LT_60.to_csv(r'C:\\2_P9Project_allData\\2_WalkingAnalysis\\P9LT_V2_allflies_w60_05022024.csv', index = False)"
   ]
  }
 ],
 "metadata": {
  "kernelspec": {
   "display_name": "base",
   "language": "python",
   "name": "python3"
  },
  "language_info": {
   "codemirror_mode": {
    "name": "ipython",
    "version": 3
   },
   "file_extension": ".py",
   "mimetype": "text/x-python",
   "name": "python",
   "nbconvert_exporter": "python",
   "pygments_lexer": "ipython3",
   "version": "3.11.3"
  }
 },
 "nbformat": 4,
 "nbformat_minor": 2
}
