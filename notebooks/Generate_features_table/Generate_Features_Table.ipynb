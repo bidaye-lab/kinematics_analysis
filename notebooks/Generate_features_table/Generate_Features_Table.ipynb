{
 "cells": [
  {
   "cell_type": "code",
   "execution_count": null,
   "metadata": {},
   "outputs": [],
   "source": [
    "%load_ext autoreload\n",
    "%autoreload 2\n",
    "\n",
    "from pathlib import Path\n",
    "import pandas as pd\n",
    "\n",
    "from src2 import (\n",
    "    feature_extract as feat\n",
    ")"
   ]
  },
  {
   "cell_type": "markdown",
   "metadata": {},
   "source": [
    "# Read and clean data"
   ]
  },
  {
   "cell_type": "code",
   "execution_count": null,
   "metadata": {},
   "outputs": [],
   "source": [
    "## Read the parquiet files with the raw data for each individual genotype\n",
    "## If the parquet file contains columns for any genotype other than the one it was pre-processed for, extract only the correct genotype from the table\n",
    "\n",
    "BPN = pd.read_parquet(Path(r'C:\\2_P9Project_allData\\1_DataStructure\\ball_predictions\\BPN\\df_ballpredictn.parquet', engine = 'pyarrow'))\n",
    "BPN = BPN.loc[BPN['genotype'] == 'BPN']\n",
    "\n",
    "P9LT = pd.read_parquet(Path(r\"C:\\2_P9Project_allData\\1_DataStructure\\ball_predictions\\P9LT\\df_ballpredictn.parquet\", engine = 'pyarrow'))\n",
    "P9LT = P9LT.loc[P9LT['genotype'] == 'P9LT']\n",
    "\n",
    "P9RT = pd.read_parquet(Path(r\"C:\\2_P9Project_allData\\1_DataStructure\\ball_predictions\\P9RT\\df_ballpredictn.parquet\", engine = 'pyarrow'))\n",
    "P9RT = P9RT.loc[P9RT['genotype'] == 'P9RT']"
   ]
  },
  {
   "cell_type": "code",
   "execution_count": null,
   "metadata": {},
   "outputs": [],
   "source": [
    "## Removing badly tracked flies \n",
    "P9LT_remove = [6, 8]\n",
    "P9LT = P9LT[~P9LT.flynum.isin(P9LT_remove)]\n",
    "\n",
    "P9RT_remove = [6, 11, 13]\n",
    "P9RT = P9RT[~P9RT.flynum.isin(P9RT_remove)]\n",
    "\n",
    "BPN_remove = [10]\n",
    "BPN = BPN[~BPN.flynum.isin(BPN_remove)]"
   ]
  },
  {
   "cell_type": "markdown",
   "metadata": {},
   "source": [
    "# Generate Tables"
   ]
  },
  {
   "cell_type": "code",
   "execution_count": null,
   "metadata": {},
   "outputs": [],
   "source": [
    "## bin size defined in frames; 1 frame = 5ms. \n",
    "## bin size should be chosen such that at least two full step cycles are included in each window.\n",
    "## If too small a window is chosen, there will be bins where not a single step was completed and this will result in 'Nan' values for parameters\n",
    "bin_size = 90\n",
    "P9LT_90 = feat.smoothed_table(P9LT, bin_size, sigma = 5)"
   ]
  },
  {
   "cell_type": "code",
   "execution_count": null,
   "metadata": {},
   "outputs": [],
   "source": [
    "raise TypeError(\"End of Section\")"
   ]
  },
  {
   "cell_type": "code",
   "execution_count": null,
   "metadata": {},
   "outputs": [],
   "source": []
  },
  {
   "cell_type": "markdown",
   "metadata": {},
   "source": [
    "# Troubleshoot (only for development)"
   ]
  },
  {
   "cell_type": "code",
   "execution_count": null,
   "metadata": {},
   "outputs": [],
   "source": [
    "P9LT_test = P9LT.loc[(P9LT['flynum'] == 1) & (P9LT['tnum'] == 2)]\n",
    "P9RT_test = P9RT.loc[(P9RT['flynum'] == 1) & (P9RT['tnum'] == 1)]"
   ]
  },
  {
   "cell_type": "code",
   "execution_count": null,
   "metadata": {},
   "outputs": [],
   "source": [
    "plot_trajectory([P9LT.iloc[45+400:45+800, :].reset_index(drop=True), \n",
    "                 P9LT_1.iloc[400-45:800-45].reset_index(drop=True),\n",
    "                 P9LT_5.iloc[400-45:800-45].reset_index(drop=True),\n",
    "                 P9LT_10.iloc[400-45:800-45].reset_index(drop=True)])"
   ]
  },
  {
   "cell_type": "code",
   "execution_count": null,
   "metadata": {},
   "outputs": [],
   "source": [
    "def plot_trajectory(df_list, arrows=True, rotate_first=True, cmap='spring', scatter_c = 'k'):\n",
    "    \n",
    "    plt.figure(figsize=(10,6))\n",
    "    fig, ax = plt.subplots(len(df_list), 1, sharex = True, sharey = True)\n",
    "    fig.set_figheight(len(df_list) * 5)\n",
    "    fig.set_figwidth(10)\n",
    "\n",
    "    idx = 0\n",
    "    for df in df_list:\n",
    "        try:\n",
    "            df = df.loc[:, ['x_vel', 'y_vel', 'z_vel']]\n",
    "        except:\n",
    "            df = df.loc[:, ['mean_x_vel', 'mean_y_vel', 'mean_z_vel']]\n",
    "\n",
    "        x, y, d = 0, 0, 0\n",
    "        xs, ys, ds = [], [], []\n",
    "        for xi, yi, di in df.values:\n",
    "\n",
    "            if rotate_first:\n",
    "                d += di\n",
    "\n",
    "            x += np.cos(d) * xi + np.cos(d - np.pi/2) * -yi\n",
    "            y += np.sin(d) * xi + np.sin(d - np.pi/2) * -yi\n",
    "            \n",
    "            if not rotate_first:\n",
    "                d += di\n",
    "\n",
    "            xs.append(x)\n",
    "            ys.append(y)\n",
    "            ds.append(d)\n",
    "            \n",
    "        x = np.array(xs)\n",
    "        y = np.array(ys)\n",
    "        d = np.array(ds)\n",
    "        # c = df.loc[:, 'mean_z_vel']\n",
    "        c = np.arange(0,len(df),1)\n",
    "\n",
    "        vmax = np.max(np.abs(c))\n",
    "        # norm = Normalize(vmin=-vmax, vmax=vmax)\n",
    "        norm = Normalize(vmin=0, vmax=vmax)\n",
    "\n",
    "        # fig, ax = plt.subplots()\n",
    "        if arrows:\n",
    "            ax[idx].quiver(x, y, np.cos(d), np.sin(d), c, cmap=cmap, norm=norm)\n",
    "        else:\n",
    "            ax[idx].scatter(x, y, s=1, color = scatter_c)\n",
    "        ax[idx].set_xlabel('x')\n",
    "        ax[idx].set_ylabel('y')\n",
    "\n",
    "        fig.tight_layout()\n",
    "        idx+=1\n",
    "        coords = pd.DataFrame([x,y,d]).T\n",
    "        coords.columns = ['x', 'y', 'd']\n"
   ]
  },
  {
   "cell_type": "code",
   "execution_count": null,
   "metadata": {},
   "outputs": [],
   "source": [
    "raw = plot_trajectory(P9LT_test[400:600])"
   ]
  },
  {
   "cell_type": "code",
   "execution_count": null,
   "metadata": {},
   "outputs": [],
   "source": [
    "temp_x = scipy.ndimage.gaussian_filter(P9LT_test['x_vel'][400:600], sigma = 5)\n",
    "temp_y = scipy.ndimage.gaussian_filter(P9LT_test['y_vel'][400:600], sigma = 5)\n",
    "temp_z = scipy.ndimage.gaussian_filter(P9LT_test['z_vel'][400:600], sigma = 5)\n",
    "test_arr = pd.concat([\n",
    "    pd.DataFrame(temp_x),\n",
    "    pd.DataFrame(temp_y),\n",
    "    pd.DataFrame(temp_x)\n",
    "], axis = 1)\n",
    "test_arr.columns = ['x_vel', 'y_vel', 'z_vel']\n",
    "smoothed_5= plot_trajectory(test_arr)"
   ]
  },
  {
   "cell_type": "code",
   "execution_count": null,
   "metadata": {},
   "outputs": [],
   "source": [
    "plt.plot(raw['x'])\n",
    "plt.plot(smoothed_5['x'])"
   ]
  },
  {
   "cell_type": "code",
   "execution_count": null,
   "metadata": {},
   "outputs": [],
   "source": [
    "plt.plot(raw['d'])\n",
    "plt.plot(smoothed_5['d'])"
   ]
  },
  {
   "cell_type": "code",
   "execution_count": null,
   "metadata": {},
   "outputs": [],
   "source": [
    "plt.plot(raw['y'])\n",
    "plt.plot(smoothed_5['y'])"
   ]
  },
  {
   "cell_type": "code",
   "execution_count": null,
   "metadata": {},
   "outputs": [],
   "source": [
    "plt.plot(P9LT_test['z_vel'].reset_index(drop=True))\n",
    "s_list = [1,5,10,15,20]\n",
    "for s in s_list:\n",
    "    plt.plot(scipy.ndimage.gaussian_filter(P9LT_test['z_vel'], sigma = s), label = s)\n",
    "plt.legend()"
   ]
  },
  {
   "cell_type": "code",
   "execution_count": null,
   "metadata": {},
   "outputs": [],
   "source": [
    "temp_x = scipy.ndimage.gaussian_filter(P9LT_test['x_vel'], sigma = 5)\n",
    "temp_y = scipy.ndimage.gaussian_filter(P9LT_test['y_vel'], sigma = 5)\n",
    "temp_z = scipy.ndimage.gaussian_filter(P9LT_test['z_vel'], sigma = 5)\n",
    "test_arr = pd.concat([\n",
    "    pd.DataFrame(temp_x),\n",
    "    pd.DataFrame(temp_y),\n",
    "    pd.DataFrame(temp_x)\n",
    "], axis = 1)\n",
    "test_arr.columns = ['x_vel', 'y_vel', 'z_vel']\n",
    "plot_trajectory(test_arr)"
   ]
  },
  {
   "cell_type": "code",
   "execution_count": null,
   "metadata": {},
   "outputs": [],
   "source": [
    "temp_x = scipy.ndimage.gaussian_filter(P9LT_test['x_vel'], sigma = 0.5)\n",
    "temp_y = scipy.ndimage.gaussian_filter(P9LT_test['y_vel'], sigma = 0.5)\n",
    "temp_z = scipy.ndimage.gaussian_filter(P9LT_test['z_vel'], sigma = 0.5)\n",
    "test_arr = pd.concat([\n",
    "    pd.DataFrame(temp_x),\n",
    "    pd.DataFrame(temp_y),\n",
    "    pd.DataFrame(temp_x)\n",
    "], axis = 1)\n",
    "test_arr.columns = ['x_vel', 'y_vel', 'z_vel']\n",
    "plot_trajectory(test_arr)"
   ]
  },
  {
   "cell_type": "code",
   "execution_count": null,
   "metadata": {},
   "outputs": [],
   "source": [
    "plot_trajectory(P9RT_test)"
   ]
  },
  {
   "cell_type": "code",
   "execution_count": null,
   "metadata": {},
   "outputs": [],
   "source": [
    "plt.plot(P9RT_test['R2C_flex'][400:1000])\n",
    "plt.plot(P9RT_test['R-M_stepcycle'][400:1000]* 160) \n",
    "plt.plot(P9RT_test['z_vel'][400:1000] * 15)"
   ]
  },
  {
   "cell_type": "code",
   "execution_count": null,
   "metadata": {},
   "outputs": [],
   "source": [
    "idx = 87\n",
    "win = 90\n",
    "data_stim = P9RT_test.iloc[400+idx:400+win+idx, :]\n",
    "plt.plot(data_stim['R2C_flex'])\n",
    "plt.plot(data_stim['R-M_stepcycle']* 160) "
   ]
  },
  {
   "cell_type": "code",
   "execution_count": null,
   "metadata": {},
   "outputs": [],
   "source": [
    "idx_ts = data_stim.index[0]\n",
    "idx_ts"
   ]
  },
  {
   "cell_type": "code",
   "execution_count": null,
   "metadata": {},
   "outputs": [],
   "source": [
    "temp = feat.get_TD_LO(data_stim, \"R2\", idx_ts)\n",
    "temp"
   ]
  },
  {
   "cell_type": "code",
   "execution_count": null,
   "metadata": {},
   "outputs": [],
   "source": [
    "feat.align_arr(feat.get_TD_LO(data_stim, \"R2\", idx_ts))"
   ]
  },
  {
   "cell_type": "code",
   "execution_count": null,
   "metadata": {},
   "outputs": [],
   "source": [
    "temp_param = feat.get_temp_params_2(feat.align_arr(feat.get_TD_LO(data_stim, \"R2\", idx_ts)))\n",
    "temp_param"
   ]
  },
  {
   "cell_type": "code",
   "execution_count": null,
   "metadata": {},
   "outputs": [],
   "source": []
  },
  {
   "cell_type": "code",
   "execution_count": null,
   "metadata": {},
   "outputs": [],
   "source": [
    "L1_stepdata = feat.get_stance_dist2(\n",
    "    feat.get_temp_params_2(feat.align_arr(feat.get_TD_LO(data_stim, \"R2\", idx_ts))),\n",
    "    P9LT_test,\n",
    "    \"L1\"\n",
    ")\n",
    "L1_stepdata"
   ]
  },
  {
   "cell_type": "code",
   "execution_count": null,
   "metadata": {},
   "outputs": [],
   "source": []
  },
  {
   "cell_type": "code",
   "execution_count": null,
   "metadata": {},
   "outputs": [],
   "source": [
    "L1_angdata = feat.get_ang_params(data_stim, \"R2\")\n",
    "L1_angdata"
   ]
  },
  {
   "cell_type": "code",
   "execution_count": null,
   "metadata": {},
   "outputs": [],
   "source": [
    "temp_win_data = pd.concat(\n",
    "    [\n",
    "        L1_stepdata,\n",
    "        L1_angdata,\n",
    "\n",
    "    ],\n",
    "    axis=1,\n",
    ").mean()"
   ]
  },
  {
   "cell_type": "code",
   "execution_count": null,
   "metadata": {},
   "outputs": [],
   "source": [
    "mean_df.columns"
   ]
  },
  {
   "cell_type": "code",
   "execution_count": null,
   "metadata": {},
   "outputs": [],
   "source": [
    "## find indices\n",
    "temp_df = pd.DataFrame(mean_df['L1_step_period'].isna())\n",
    "temp_df[temp_df['L1_step_period'] == True].index.tolist()"
   ]
  },
  {
   "cell_type": "code",
   "execution_count": null,
   "metadata": {},
   "outputs": [],
   "source": [
    "data_stim['x_vel']"
   ]
  },
  {
   "cell_type": "code",
   "execution_count": null,
   "metadata": {},
   "outputs": [],
   "source": [
    "plt.plot(data_stim['x_vel'].reset_index(drop=True))\n",
    "plt.plot(scipy.ndimage.gaussian_filter(data_stim['x_vel'], sigma = 5))"
   ]
  },
  {
   "cell_type": "code",
   "execution_count": null,
   "metadata": {},
   "outputs": [],
   "source": [
    "temp_win_data"
   ]
  },
  {
   "cell_type": "code",
   "execution_count": null,
   "metadata": {},
   "outputs": [],
   "source": []
  },
  {
   "cell_type": "code",
   "execution_count": null,
   "metadata": {},
   "outputs": [],
   "source": []
  },
  {
   "cell_type": "markdown",
   "metadata": {},
   "source": [
    "### Generate Tables"
   ]
  },
  {
   "cell_type": "code",
   "execution_count": null,
   "metadata": {},
   "outputs": [],
   "source": [
    "## bin size defined in frames; 1 frame = 5ms. \n",
    "## bin size should be chosen such that at least two full step cycles are included in each window.\n",
    "## If too small a window is chosen, there will be bins where not a single step was completed and this will result in 'Nan' values for parameters\n",
    "bin_size = 90\n",
    "P9LT_test_60 = feat.smoothed_table(P9LT_test, bin_size)\n"
   ]
  },
  {
   "cell_type": "code",
   "execution_count": null,
   "metadata": {},
   "outputs": [],
   "source": [
    "P9RT_test_60 = feat.smoothed_table(P9RT_test, bin_size)"
   ]
  },
  {
   "cell_type": "code",
   "execution_count": null,
   "metadata": {},
   "outputs": [],
   "source": [
    "P9LT_test_5 = feat.smoothed_table(P9LT_test, 5)"
   ]
  },
  {
   "cell_type": "code",
   "execution_count": null,
   "metadata": {},
   "outputs": [],
   "source": [
    "P9LT_test_10 = feat.smoothed_table(P9LT_test, 10)\n",
    "P9LT_test_20 = feat.smoothed_table(P9LT_test, 20)\n",
    "P9LT_test_30 = feat.smoothed_table(P9LT_test, 30)\n",
    "P9LT_test_40 = feat.smoothed_table(P9LT_test, 40)\n",
    "P9LT_test_50 = feat.smoothed_table(P9LT_test, 50)\n",
    "P9LT_test_60 = feat.smoothed_table(P9LT_test, 60)\n",
    "P9LT_test_70 = feat.smoothed_table(P9LT_test, 70)\n",
    "P9LT_test_80 = feat.smoothed_table(P9LT_test, 80)\n",
    "P9LT_test_90 = feat.smoothed_table(P9LT_test, 90)\n",
    "P9LT_test_100 = feat.smoothed_table(P9LT_test, 100)"
   ]
  },
  {
   "cell_type": "code",
   "execution_count": null,
   "metadata": {},
   "outputs": [],
   "source": [
    "P9LT_test_120 = feat.smoothed_table(P9LT_test, 120)\n",
    "P9LT_test_150 = feat.smoothed_table(P9LT_test, 150)\n",
    "P9LT_test_170 = feat.smoothed_table(P9LT_test, 170)\n",
    "P9LT_test_200 = feat.smoothed_table(P9LT_test, 200)"
   ]
  },
  {
   "cell_type": "code",
   "execution_count": null,
   "metadata": {},
   "outputs": [],
   "source": [
    "P9RT_test_10 = feat.smoothed_table(P9RT_test, 10)\n",
    "P9RT_test_20 = feat.smoothed_table(P9RT_test, 20)\n",
    "P9RT_test_30 = feat.smoothed_table(P9RT_test, 30)\n",
    "P9RT_test_40 = feat.smoothed_table(P9RT_test, 40)\n",
    "P9RT_test_50 = feat.smoothed_table(P9RT_test, 50)\n",
    "P9RT_test_60 = feat.smoothed_table(P9RT_test, 60)\n",
    "P9RT_test_70 = feat.smoothed_table(P9RT_test, 70)\n",
    "P9RT_test_80 = feat.smoothed_table(P9RT_test, 80)\n",
    "P9RT_test_90 = feat.smoothed_table(P9RT_test, 90)\n",
    "P9RT_test_100 = feat.smoothed_table(P9RT_test, 100)\n",
    "P9RT_test_120 = feat.smoothed_table(P9RT_test, 120)\n",
    "P9RT_test_150 = feat.smoothed_table(P9RT_test, 150)\n",
    "P9RT_test_170 = feat.smoothed_table(P9RT_test, 170)\n",
    "P9RT_test_200 = feat.smoothed_table(P9RT_test, 200)"
   ]
  },
  {
   "cell_type": "code",
   "execution_count": null,
   "metadata": {},
   "outputs": [],
   "source": [
    "P9RT_test_5 = feat.smoothed_table(P9RT_test, 5)"
   ]
  },
  {
   "cell_type": "code",
   "execution_count": null,
   "metadata": {},
   "outputs": [],
   "source": [
    "traj_list = [P9LT_test_5, P9LT_test_10, P9LT_test_20, P9LT_test_30, P9LT_test_40, P9LT_test_50, \n",
    "             P9LT_test_60, P9LT_test_70, P9LT_test_80, P9LT_test_90, P9LT_test_100, P9LT_test_120, P9LT_test_150, P9LT_test_170, P9LT_test_200]\n",
    "\n",
    "name_list = ['P9LT_test_5', 'P9LT_test_10', 'P9LT_test_20', 'P9LT_test_30', 'P9LT_test_40', 'P9LT_test_50', \n",
    "             'P9LT_test_60', 'P9LT_test_70', 'P9LT_test_80', 'P9LT_test_90', 'P9LT_test_100', 'P9LT_test_120', 'P9LT_test_150', 'P9LT_test_170', 'P9LT_test_200']\n",
    "# plot_trajectory(traj_list)\n",
    "plt.figure(figsize=(15,6))\n",
    "idx = 0\n",
    "for traj, name in zip(traj_list, name_list):\n",
    "    if idx <8:\n",
    "        plt.plot(traj['mean_z_vel'], label = name)\n",
    "    else:\n",
    "        plt.plot(traj['mean_z_vel'], label = name, ls = '--')\n",
    "    idx+=1\n",
    "\n",
    "plt.legend()"
   ]
  },
  {
   "cell_type": "code",
   "execution_count": null,
   "metadata": {},
   "outputs": [],
   "source": [
    "traj_list = [P9RT_test_5, P9RT_test_10, P9RT_test_20, P9RT_test_30, P9RT_test_40, P9RT_test_50, \n",
    "             P9RT_test_60, P9RT_test_70, P9RT_test_80, P9RT_test_90, P9RT_test_100, P9RT_test_120, P9RT_test_150, P9RT_test_170, P9RT_test_200]\n",
    "\n",
    "name_list = ['P9RT_test_5', 'P9RT_test_10', 'P9RT_test_20', 'P9RT_test_30', 'P9RT_test_40', 'P9RT_test_50', \n",
    "             'P9RT_test_60', 'P9RT_test_70', 'P9RT_test_80', 'P9RT_test_90', 'P9RT_test_100', 'P9RT_test_120', 'P9RT_test_150', 'P9RT_test_170', 'P9RT_test_200']\n",
    "# plot_trajectory(traj_list)\n",
    "plt.figure(figsize=(15,6))\n",
    "idx = 0\n",
    "for traj, name in zip(traj_list, name_list):\n",
    "    if idx <8:\n",
    "        plt.plot(traj['mean_z_vel'], label = name)\n",
    "    else:\n",
    "        plt.plot(traj['mean_z_vel'], label = name, ls = '--')\n",
    "    idx+=1\n",
    "\n",
    "plt.legend()"
   ]
  },
  {
   "cell_type": "code",
   "execution_count": null,
   "metadata": {},
   "outputs": [],
   "source": []
  },
  {
   "cell_type": "code",
   "execution_count": null,
   "metadata": {},
   "outputs": [],
   "source": [
    "P9RT_test_60"
   ]
  },
  {
   "cell_type": "code",
   "execution_count": null,
   "metadata": {},
   "outputs": [],
   "source": [
    "print('L1: ', [P9LT_90['L1_step_period'].isna().sum(), \n",
    "P9LT_90['L1_swing_dur'].isna().sum(),\n",
    "P9LT_90['L1_stance_dur'].isna().sum(), \n",
    "P9LT_90['L1_stance_dist_norm'].isna().sum()])\n",
    "\n",
    "print('L2: ', [P9LT_90['L2_step_period'].isna().sum(), \n",
    "P9LT_90['L2_swing_dur'].isna().sum(),\n",
    "P9LT_90['L2_stance_dur'].isna().sum(), \n",
    "P9LT_90['L2_stance_dist_norm'].isna().sum()])\n",
    "\n",
    "print('L3: ', [P9LT_90['L3_step_period'].isna().sum(), \n",
    "P9LT_90['L3_swing_dur'].isna().sum(),\n",
    "P9LT_90['L3_stance_dur'].isna().sum(), \n",
    "P9LT_90['L3_stance_dist_norm'].isna().sum()])\n",
    "\n",
    "print('R1: ', [P9LT_90['R1_step_period'].isna().sum(), \n",
    "P9LT_90['R1_swing_dur'].isna().sum(),\n",
    "P9LT_90['R1_stance_dur'].isna().sum(), \n",
    "P9LT_90['R1_stance_dist_norm'].isna().sum()])\n",
    "\n",
    "print('R2: ', [P9LT_90['R2_step_period'].isna().sum(), \n",
    "P9LT_90['R2_swing_dur'].isna().sum(),\n",
    "P9LT_90['R2_stance_dur'].isna().sum(), \n",
    "P9LT_90['R2_stance_dist_norm'].isna().sum()])\n",
    "\n",
    "print('R3: ', [P9LT_90['R3_step_period'].isna().sum(), \n",
    "P9LT_90['R3_swing_dur'].isna().sum(),\n",
    "P9LT_90['R3_stance_dur'].isna().sum(), \n",
    "P9LT_90['R3_stance_dist_norm'].isna().sum()])"
   ]
  },
  {
   "cell_type": "code",
   "execution_count": null,
   "metadata": {},
   "outputs": [],
   "source": [
    "print('L1: ', [P9RT_test_60['L1_step_period'].isna().sum(), \n",
    "P9RT_test_60['L1_swing_dur'].isna().sum(),\n",
    "P9RT_test_60['L1_stance_dur'].isna().sum(), \n",
    "P9RT_test_60['L1_stance_dist_norm'].isna().sum()])\n",
    "\n",
    "print('L2: ', [P9RT_test_60['L2_step_period'].isna().sum(), \n",
    "P9RT_test_60['L2_swing_dur'].isna().sum(),\n",
    "P9RT_test_60['L2_stance_dur'].isna().sum(), \n",
    "P9RT_test_60['L2_stance_dist_norm'].isna().sum()])\n",
    "\n",
    "print('L3: ', [P9RT_test_60['L3_step_period'].isna().sum(), \n",
    "P9RT_test_60['L3_swing_dur'].isna().sum(),\n",
    "P9RT_test_60['L3_stance_dur'].isna().sum(), \n",
    "P9RT_test_60['L3_stance_dist_norm'].isna().sum()])\n",
    "\n",
    "print('R1: ', [P9RT_test_60['R1_step_period'].isna().sum(), \n",
    "P9RT_test_60['R1_swing_dur'].isna().sum(),\n",
    "P9RT_test_60['R1_stance_dur'].isna().sum(), \n",
    "P9RT_test_60['R1_stance_dist_norm'].isna().sum()])\n",
    "\n",
    "print('R2: ', [P9RT_test_60['R2_step_period'].isna().sum(), \n",
    "P9RT_test_60['R2_swing_dur'].isna().sum(),\n",
    "P9RT_test_60['R2_stance_dur'].isna().sum(), \n",
    "P9RT_test_60['R2_stance_dist_norm'].isna().sum()])\n",
    "\n",
    "print('R3: ', [P9RT_test_60['R3_step_period'].isna().sum(), \n",
    "P9RT_test_60['R3_swing_dur'].isna().sum(),\n",
    "P9RT_test_60['R3_stance_dur'].isna().sum(), \n",
    "P9RT_test_60['R3_stance_dist_norm'].isna().sum()])"
   ]
  },
  {
   "cell_type": "code",
   "execution_count": null,
   "metadata": {},
   "outputs": [],
   "source": [
    "df = pd.DataFrame(P9RT_test_60['R2_step_period'].isna())\n",
    "df[df['R2_step_period'] == True].index.tolist()"
   ]
  }
 ],
 "metadata": {
  "kernelspec": {
   "display_name": "base",
   "language": "python",
   "name": "python3"
  },
  "language_info": {
   "codemirror_mode": {
    "name": "ipython",
    "version": 3
   },
   "file_extension": ".py",
   "mimetype": "text/x-python",
   "name": "python",
   "nbconvert_exporter": "python",
   "pygments_lexer": "ipython3",
   "version": "3.11.3"
  }
 },
 "nbformat": 4,
 "nbformat_minor": 2
}
