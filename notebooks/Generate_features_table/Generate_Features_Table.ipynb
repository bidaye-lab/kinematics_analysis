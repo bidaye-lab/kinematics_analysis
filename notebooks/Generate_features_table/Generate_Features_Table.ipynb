{
 "cells": [
  {
   "cell_type": "code",
   "execution_count": null,
   "metadata": {},
   "outputs": [],
   "source": [
    "%load_ext autoreload\n",
    "%autoreload 2\n",
    "\n",
    "from pathlib import Path\n",
    "import pandas as pd\n",
    "\n",
    "from src2 import (\n",
    "    feature_extract as feat\n",
    ")"
   ]
  },
  {
   "cell_type": "markdown",
   "metadata": {},
   "source": [
    "# Read and clean data"
   ]
  },
  {
   "cell_type": "code",
   "execution_count": 10,
   "metadata": {},
   "outputs": [],
   "source": [
    "BPN = pd.read_parquet(Path(r'C:\\2_P9Project_allData\\1_DataStructure\\ball_predictions\\BPN\\df_ballpredictn.parquet', engine = 'pyarrow'))\n",
    "BPN = BPN.loc[BPN['genotype'] == 'BPN']\n",
    "\n",
    "P9LT = pd.read_parquet(Path(r\"C:\\2_P9Project_allData\\1_DataStructure\\ball_predictions\\P9LT\\df_ballpredictn.parquet\", engine = 'pyarrow'))\n",
    "P9LT = P9LT.loc[P9LT['genotype'] == 'P9LT']\n",
    "\n",
    "P9RT = pd.read_parquet(Path(r\"C:\\2_P9Project_allData\\1_DataStructure\\ball_predictions\\P9RT\\df_ballpredictn.parquet\", engine = 'pyarrow'))\n",
    "P9RT = P9RT.loc[P9RT['genotype'] == 'P9RT']"
   ]
  },
  {
   "cell_type": "code",
   "execution_count": 11,
   "metadata": {},
   "outputs": [],
   "source": [
    "P9LT_remove = [6, 8]\n",
    "P9LT = P9LT[~P9LT.flynum.isin(P9LT_remove)]\n",
    "\n",
    "P9RT_remove = [6, 11, 13]\n",
    "P9RT = P9RT[~P9RT.flynum.isin(P9RT_remove)]\n",
    "\n",
    "BPN_remove = [10]\n",
    "BPN = BPN[~BPN.flynum.isin(BPN_remove)]"
   ]
  },
  {
   "cell_type": "markdown",
   "metadata": {},
   "source": [
    "# Define cooridnates"
   ]
  },
  {
   "cell_type": "markdown",
   "metadata": {},
   "source": [
    "# Generate Tables"
   ]
  },
  {
   "cell_type": "code",
   "execution_count": null,
   "metadata": {},
   "outputs": [],
   "source": [
    "bin_size = 50\n",
    "P9LT_50 = feat.smoothed_table(P9LT, bin_size)"
   ]
  },
  {
   "cell_type": "code",
   "execution_count": null,
   "metadata": {},
   "outputs": [],
   "source": [
    "P9LT_50.to_csv(r'C:\\2_P9Project_allData\\2_WalkingAnalysis\\P9LT_V2_allflies_w50_05022024.csv', index = False)"
   ]
  }
 ],
 "metadata": {
  "kernelspec": {
   "display_name": "base",
   "language": "python",
   "name": "python3"
  },
  "language_info": {
   "codemirror_mode": {
    "name": "ipython",
    "version": 3
   },
   "file_extension": ".py",
   "mimetype": "text/x-python",
   "name": "python",
   "nbconvert_exporter": "python",
   "pygments_lexer": "ipython3",
   "version": "3.9.13"
  }
 },
 "nbformat": 4,
 "nbformat_minor": 2
}
