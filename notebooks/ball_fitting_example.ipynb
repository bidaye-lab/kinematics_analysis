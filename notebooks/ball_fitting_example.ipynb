{
 "cells": [
  {
   "cell_type": "code",
   "execution_count": null,
   "id": "e9b03858",
   "metadata": {},
   "outputs": [],
   "source": [
    "%load_ext autoreload\n",
    "%autoreload 2\n",
    "\n",
    "from src import (\n",
    "    data_loader as dl,\n",
    "    df_operations as dfo,\n",
    "    fitting as fit,\n",
    "    visualize as vis,\n",
    ")\n",
    "from src.xyz_trajectory import generate_xyz as xyz"
   ]
  },
  {
   "cell_type": "markdown",
   "id": "4f87036a",
   "metadata": {},
   "source": [
    "# data structure\n",
    "## load data\n",
    "The data we work with is x, y, and z coordinates for each leg joint of the\n",
    "fruit fly at each frame of the video.\n",
    "\n",
    "The data is stored as an HDF file and may contain multiple datasets, here, different genotypes.\n",
    "The output of the `load_data_hdf` function is a dictionary mapping the\n",
    "genotype name to the pandas.DataFrame for that genotype."
   ]
  },
  {
   "cell_type": "code",
   "execution_count": null,
   "id": "b4bb0886",
   "metadata": {},
   "outputs": [],
   "source": [
    "# load HDF file as dict of dataframes\n",
    "cfg = dl.load_config('config.yml')\n",
    "data = dl.load_data_hdf(cfg['datafile'])"
   ]
  },
  {
   "cell_type": "markdown",
   "id": "36a69f20",
   "metadata": {},
   "source": [
    "## choose fly and trial\n",
    "This example shows how to choose some genotype and fly from the data.\n",
    "We then use `filter_frames`, which by default selects all frames with optical stimulation.\n",
    "Also, any previous stepcyle predictions are removed."
   ]
  },
  {
   "cell_type": "code",
   "execution_count": null,
   "id": "69211968",
   "metadata": {},
   "outputs": [],
   "source": [
    "# load specific fly\n",
    "df = data['P9RT'].groupby('flynum').get_group(7)\n",
    "\n",
    "# select only stim frames\n",
    "df = dfo.filter_frames(df)\n",
    "\n",
    "# drop previous stepcycle predictions\n",
    "df = dfo.remove_stepcycle_predictions(df)"
   ]
  },
  {
   "cell_type": "markdown",
   "id": "8c2a23ad",
   "metadata": {},
   "source": [
    "# Stepcycle predictions\n",
    "To get stepcycle predictions, we use the x, y, and z coordinates of the tarsal tips of all legs.\n",
    "The column triplet `R-F-TaG_{xyz}` indicates the x, y, and z coordinates of the tarsal tip of the right front leg, for example.\n",
    "\n",
    "The following steps are performed:\n",
    "1. fitting of the ball center and radius\n",
    "2. extraction of step cycles, i.e., in which frames are the legs in stance and swing\n",
    "\n",
    "## Fitting the ball\n",
    "The function `fit_ball` fits a sphere to the positions of the tarsal tips.\n",
    "\n",
    "The first step is to get an initial guess for the ball center and radius.\n",
    "The function `get_ball0` returns the initial guess for the ball center, \n",
    "which is defined as `s_ball0 * dWH * r_notum-TaG`, where `s_ball0` is a scaling factor\n",
    "passed to `fit_ball`, `dWH` is the distance between the wing hinges, and `r_notum-TaG` is the\n",
    "vector from the notum to the position of the tarsal tip averaged over all legs.\n",
    "\n",
    "The initial guess for the ball radius is `s_r0 * dWH`, where `s_r0` is a scaling factor\n",
    "passed to `fit_ball` and `dWH` is distance between the wing hinges.\n",
    "\n",
    "Then, the ball center and radius are optimized by minimizing the function `cost_fun_ball`.\n",
    "Here, the cost function is the sum of squared distances between the ball surface and the tarsal tips.\n",
    "In each iteration of the optimization, only the points within the xth and yth percentile of the distance\n",
    "to the ball center are used.\n",
    "The lower bound excludes possible tracking errors, where the tarsal tips would be inside the ball.\n",
    "The upper bound excluded the tarsal tips of the legs that are in swing.\n",
    "The percentile ranges are defined per leg in the dictionary `pct_range`.\n",
    "\n",
    "The percentile ranges have to be adjusted for each dataset and each leg:\n",
    "If the tarsal tips suffer from many tracking errors, the lower bound should be increased.\n",
    "If the data sets include many frames with legs in swing, the upper bound should be decreased.\n",
    "\n",
    "You can also select a subset of the data with good tracking or only stance phases to fit the ball\n",
    "and use this fit to extract step cycles from the full dataset."
   ]
  },
  {
   "cell_type": "code",
   "execution_count": null,
   "id": "9bf2d634",
   "metadata": {},
   "outputs": [],
   "source": [
    "# define percentiles for each leg\n",
    "pct_range = {\n",
    "    'R-F':  (5, 85),\n",
    "    'R-M':  (5, 85),\n",
    "    'R-H':  (5, 85),\n",
    "    'L-F':  (5, 85),\n",
    "    'L-M':  (5, 85),\n",
    "    'L-H':  (5, 85),\n",
    "}\n",
    "# fit ball\n",
    "ball, r = fit.fit_ball(df, pct_range)\n",
    "print('INFO: optimized ball center x = {:1.3f} y = {:1.3f} z = {:1.3f} | radius {:1.3f}'.format(*ball, r))\n",
    "\n",
    "# add distances from center to df\n",
    "df = dfo.add_distance(df, ball)\n",
    "\n",
    "# add ball info\n",
    "df.loc[:, 'x_ball'] = ball[0]\n",
    "df.loc[:, 'y_ball'] = ball[1]\n",
    "df.loc[:, 'z_ball'] = ball[2]\n",
    "df.loc[:, 'r_ball'] = r"
   ]
  },
  {
   "cell_type": "markdown",
   "id": "f8937853",
   "metadata": {},
   "source": [
    "The visualization of the tarsal tip distances from the ball cetner are an important quality control.\n",
    "The percentile ranges should be adjusted that the center distribution is narrow and centered around the ball radius.\n",
    "\n",
    "The left distribution shows the tarsal tips within the ball.\n",
    "The right distribution shows the tarsal tips further from the surface, e.g., while the legs are in swing phase."
   ]
  },
  {
   "cell_type": "code",
   "execution_count": null,
   "id": "46ed0291",
   "metadata": {},
   "outputs": [],
   "source": [
    "# visualize TaG distribution incl percentiles\n",
    "vis.plot_r_distr(df, 'TaG_r', pct_range)"
   ]
  },
  {
   "cell_type": "markdown",
   "id": "f8c5914b",
   "metadata": {},
   "source": [
    "## Stepcyle predictions\n",
    "The stepcycle predictions take the results from the ball fitting to predict if a leg is in stance or swing.\n",
    "\n",
    "The fuction `get_r_median` returns the mean of the center distribution shown in `plot_r_distr`.\n",
    "\n",
    "Depending on the distance defined in `d_delta_r` from this mean,\n",
    "the function `add_stepcycle_pred` classifies that point as stance or swing.\n",
    "Furthermore, the parameters `min_on` and `min_off` define the minimum number of frames\n",
    "for a stance or swing phase, respectively.\n",
    "This is done in order to avoid an interruption of each phase through the misclassification of just a some frames."
   ]
  },
  {
   "cell_type": "code",
   "execution_count": null,
   "id": "7692d776",
   "metadata": {},
   "outputs": [],
   "source": [
    "# get \"median\" for TaG_r for each leg\n",
    "d_med = dfo.get_r_median(df, pct_range)\n",
    "\n",
    "# thresholds for step detection\n",
    "min_on, min_off = 2, 2 # mimimum number of frames for on/off step \n",
    "d_delta_r = { # distance from median per leg (unit?)\n",
    "    'R-F': .05,\n",
    "    'R-M': .05,\n",
    "    'R-H': .05,\n",
    "    'L-F': .05,\n",
    "    'L-M': .05,\n",
    "    'L-H': .05,\n",
    "}\n",
    "df = dfo.add_stepcycle_pred(df, d_med, d_delta_r, min_on, min_off)"
   ]
  },
  {
   "cell_type": "markdown",
   "id": "a3cae598",
   "metadata": {},
   "source": [
    "Visualizing the stepcycle predictions is an important quality control to check if the\n",
    "thresholds in `d_delta_r`, `min_on`, and `min_off` are set correctly.\n",
    "\n",
    "The values in `d_med` are solid horizontal lines, those in `d_delta_r` are dashed horizontal lines.\n",
    "Frames classified as stance are shown in blue, those classified as swing are shown in orange."
   ]
  },
  {
   "cell_type": "code",
   "execution_count": null,
   "id": "f2341711",
   "metadata": {},
   "outputs": [],
   "source": [
    "# plot example trial\n",
    "df_trl = df.groupby('tnum').get_group(1)\n",
    "vis.plot_stepcycle_pred(df_trl, d_med, d_delta_r)"
   ]
  },
  {
   "cell_type": "markdown",
   "id": "e867d27b",
   "metadata": {},
   "source": [
    "# 3D visualization\n",
    "We can generate so-called trajectory files that can be read by a molecular viewer such as VMD.\n",
    "\n",
    "Here, `split > 0` writes a separate file after `split` frames. If `ball` is supplied, the ball coordinates are written to the file.\n",
    "\n",
    "Note that you will need to enter `ball X` in to the VMD terminal, where `X = 5.0 * r`."
   ]
  },
  {
   "cell_type": "code",
   "execution_count": null,
   "id": "d210a563",
   "metadata": {},
   "outputs": [],
   "source": [
    "# generate files for one fly\n",
    "for t, df_trl in df.groupby('tnum'):\n",
    "    xyz.write_xyz(df_trl, out_name=f'trial_{t}.xyz', split=0, ball=ball)"
   ]
  }
 ],
 "metadata": {
  "jupytext": {
   "cell_metadata_filter": "-all",
   "custom_cell_magics": "kql"
  },
  "kernelspec": {
   "display_name": "kine",
   "language": "python",
   "name": "python3"
  }
 },
 "nbformat": 4,
 "nbformat_minor": 5
}
