{
 "cells": [
  {
   "cell_type": "code",
   "execution_count": null,
   "metadata": {},
   "outputs": [],
   "source": [
    "%load_ext autoreload\n",
    "%autoreload 2\n",
    "\n",
    "import utils as utl\n",
    "from pathlib import Path\n",
    "import pandas as pd\n",
    "\n",
    "cfg = utl.load_config('./config_local.yml')"
   ]
  },
  {
   "attachments": {},
   "cell_type": "markdown",
   "metadata": {},
   "source": [
    "# Example fly"
   ]
  },
  {
   "cell_type": "markdown",
   "metadata": {},
   "source": [
    "## distance from ball"
   ]
  },
  {
   "cell_type": "code",
   "execution_count": null,
   "metadata": {},
   "outputs": [],
   "source": [
    "# load HDF file\n",
    "data = utl.load_data_hdf(cfg)\n",
    "\n",
    "# load specific fly\n",
    "df = data['Stop1_set4'].groupby('flynum').get_group(26).groupby('tnum').get_group(1)\n",
    "df = utl.filter_frames(df)\n",
    "\n",
    "# remove previous stepcycle predictions\n",
    "cols = [ c for c in df.columns if c.endswith('stepcycle') ]\n",
    "df = df.drop(columns=cols)"
   ]
  },
  {
   "cell_type": "code",
   "execution_count": null,
   "metadata": {},
   "outputs": [],
   "source": [
    "# define percentiles for each leg\n",
    "d_perc = {\n",
    "    'R-F':  (5, 85),\n",
    "    'R-M':  (5, 85),\n",
    "    'R-H':  (5, 85),\n",
    "    'L-F':  (5, 85),\n",
    "    'L-M':  (5, 85),\n",
    "    'L-H':  (5, 85),\n",
    "}\n",
    "# fit ball\n",
    "ball, r = utl.fit_ball(df, d_perc)\n",
    "print('INFO: optimized ball center x = {:1.3f} y = {:1.3f} z = {:1.3f} | radius {:1.3f}'.format(*ball, r))\n",
    "\n",
    "# add distances from center to df\n",
    "df = utl.add_distance(df, ball)"
   ]
  },
  {
   "cell_type": "code",
   "execution_count": null,
   "metadata": {},
   "outputs": [],
   "source": [
    "# plot distribution of distances \n",
    "utl.plot_r_distr(df, 'TaG_r', d_perc)"
   ]
  },
  {
   "attachments": {},
   "cell_type": "markdown",
   "metadata": {},
   "source": [
    "## Stepcycle predictions"
   ]
  },
  {
   "cell_type": "code",
   "execution_count": null,
   "metadata": {},
   "outputs": [],
   "source": [
    "# get \"median\" for TaG_r for each leg\n",
    "d_med = utl.get_r_median(df, d_perc)\n",
    "\n",
    "# thresholds for step detection\n",
    "\n",
    "min_on, min_off = 2, 2 # mimimum number of frames for on/off step \n",
    "d_delta_r = { # distance from median per leg (unit?)\n",
    "    'R-F': .05,\n",
    "    'R-M': .05,\n",
    "    'R-H': .05,\n",
    "    'L-F': .05,\n",
    "    'L-M': .05,\n",
    "    'L-H': .05,\n",
    "}\n",
    "df = utl.add_stepcycle_pred(df, d_med, d_delta_r, min_on, min_off)"
   ]
  },
  {
   "cell_type": "code",
   "execution_count": null,
   "metadata": {},
   "outputs": [],
   "source": [
    "# plot example trial\n",
    "utl.plot_stepcycle_pred(df.groupby('tnum').get_group(1), d_med, d_delta_r)"
   ]
  },
  {
   "attachments": {},
   "cell_type": "markdown",
   "metadata": {},
   "source": [
    "## fly-centric cooridnate system"
   ]
  },
  {
   "cell_type": "code",
   "execution_count": null,
   "metadata": {},
   "outputs": [],
   "source": [
    "# load HDF file\n",
    "data = utl.load_data_hdf(cfg)\n",
    "\n",
    "# tranform coordinates\n",
    "df = data['P9LT'].groupby('flynum').get_group(1)\n",
    "df = utl.transform_to_flycentric(df)"
   ]
  },
  {
   "cell_type": "code",
   "execution_count": null,
   "metadata": {},
   "outputs": [],
   "source": [
    "# plot ThC, Notum, WH\n",
    "utl.plot_coord_system(df)"
   ]
  },
  {
   "cell_type": "code",
   "execution_count": null,
   "metadata": {},
   "outputs": [],
   "source": [
    "# plot TaG\n",
    "utl.plot_coord_system(df, joints=['TaG'])"
   ]
  },
  {
   "attachments": {},
   "cell_type": "markdown",
   "metadata": {},
   "source": [
    "# batch pre-processing"
   ]
  },
  {
   "attachments": {},
   "cell_type": "markdown",
   "metadata": {},
   "source": [
    "## ball fitting and stepcycle predictions"
   ]
  },
  {
   "cell_type": "code",
   "execution_count": null,
   "metadata": {},
   "outputs": [],
   "source": [
    "# load data\n",
    "data = utl.load_data_hdf(cfg)\n",
    "\n",
    "# define percentiles for each leg\n",
    "d_perc = {\n",
    "    'R-F':  (25, 75),\n",
    "    'R-M':  (25, 75),\n",
    "    'R-H':  (25, 75),\n",
    "    'L-F':  (25, 75),\n",
    "    'L-M':  (25, 75),\n",
    "    'L-H':  (25, 75),\n",
    "}\n",
    "    \n",
    "# thresholds for step detection\n",
    "min_on, min_off = 2, 2 # mimimum number of frames for on/off step \n",
    "d_delta_r = { # distance from median per leg (unit?)\n",
    "    'R-F': .05,\n",
    "    'R-M': .05,\n",
    "    'R-H': .05,\n",
    "    'L-F': .05,\n",
    "    'L-M': .05,\n",
    "    'L-H': .05,\n",
    "}\n",
    "# data frame for ball centers / radii\n",
    "df_ball = pd.DataFrame()\n",
    "\n",
    "# cycle trough genotypes\n",
    "idx = 0\n",
    "for gen, df_gen in data.items():\n",
    "\n",
    "    # plot folder\n",
    "    plot_folder = Path(cfg['plot_folder']) / 'ball_predictions/{}/'.format(gen)\n",
    "    plot_folder.mkdir(parents=True, exist_ok=True)\n",
    "\n",
    "    # cycle through flies\n",
    "    for fly, df_fly in df_gen.groupby('flynum'):\n",
    "\n",
    "        print('INFO: processing genotype {} | fly {}'.format(gen, fly))\n",
    "        print('      ==================='.format(gen, fly))\n",
    "        \n",
    "        #######################\n",
    "        ## only use stim frames\n",
    "        df = utl.filter_frames(df_fly)\n",
    "\n",
    "        # fit ball\n",
    "        ball, r = utl.fit_ball(df, d_perc)\n",
    "        print('Optimized: ball center x = {:1.3f} y = {:1.3f} z = {:1.3f} | radius {:1.3f}'.format(*ball, r))\n",
    "\n",
    "        # add distances from center \n",
    "        df = utl.add_distance(df, ball)\n",
    "\n",
    "        # get \"median\" for TaG_r for each leg\n",
    "        d_med = utl.get_r_median(df, d_perc)\n",
    "\n",
    "        # write to df_ball\n",
    "        df_ball.loc[idx, 'genotype'] = gen\n",
    "        df_ball.loc[idx, 'flynum'] = fly\n",
    "        df_ball.loc[idx, ['ball_x', 'ball_y', 'ball_z']] = ball\n",
    "        df_ball.loc[idx, 'r'] = r\n",
    "        for k, v in d_perc.items():\n",
    "            df_ball.at[idx, 'perc_low_{}'.format(k)] = v[0]\n",
    "            df_ball.at[idx, 'perc_high_{}'.format(k)] = v[1]\n",
    "        idx += 1\n",
    "\n",
    "        #######################\n",
    "        ## all frames\n",
    "\n",
    "        # add distances from center \n",
    "        df_fly = utl.add_distance(df_fly, ball)\n",
    "\n",
    "        # step cycles\n",
    "        df_fly = utl.add_stepcycle_pred(df_fly, d_med, d_delta_r, min_on, min_off)\n",
    "\n",
    "        # add back to data dict\n",
    "        data[gen].loc[df_fly.index, df_fly.columns] = df_fly\n",
    "\n",
    "        #####################\n",
    "        ## plot for stim only\n",
    "        df = utl.filter_frames(df_fly)\n",
    "\n",
    "        # plot r distribution\n",
    "        utl.plot_r_distr(df, 'TaG_r', d_perc, path=plot_folder / 'r_distr_fly{}.png'.format(fly))\n",
    "        \n",
    "        # plot stepcycles \n",
    "        utl.plot_stepcycle_pred_grid(df, d_med, d_delta_r, path=plot_folder / 'stepcycles_{}.png'.format(fly))\n",
    "\n",
    "# store on disk\n",
    "path_df_ball = Path(cfg['data_folder']) / 'df_ball.parquet'\n",
    "df_ball.to_parquet(path_df_ball)\n",
    "\n",
    "out_file = Path(cfg['data_folder']) / 'df_preproc.parquet'\n",
    "utl.write_data_dict(data, out_file)"
   ]
  },
  {
   "attachments": {},
   "cell_type": "markdown",
   "metadata": {},
   "source": [
    "## coordinate transformation"
   ]
  },
  {
   "cell_type": "code",
   "execution_count": null,
   "metadata": {},
   "outputs": [],
   "source": [
    "# load preprocessed data from disk\n",
    "out_file = Path(cfg['data_folder']) / 'df_preproc.parquet'\n",
    "data = utl.load_data_dict(out_file)\n",
    "\n",
    "# cycle trough genotypes\n",
    "for gen, df_gen in data.items():\n",
    "\n",
    "    # cycle through flies\n",
    "    for fly, df_fly in df_gen.groupby('flynum'):\n",
    "\n",
    "        print('INFO: processing genotype {} | fly {}'.format(gen, fly))\n",
    "        print('      ==================='.format(gen, fly))\n",
    "\n",
    "        # convert to fly-centric coordinates\n",
    "        df = utl.transform_to_flycentric(df_fly)\n",
    "        data[gen].loc[df.index, :] = df\n",
    "\n",
    "\n",
    "# store on disk\n",
    "out_file = Path(cfg['data_folder']) / 'df_preproc.parquet'\n",
    "utl.write_data_dict(data, out_file)"
   ]
  },
  {
   "cell_type": "code",
   "execution_count": null,
   "metadata": {},
   "outputs": [],
   "source": [
    "# plot\n",
    "# load preprocessed data from disk\n",
    "out_file = Path(cfg['data_folder']) / 'df_preproc.parquet'\n",
    "data = utl.load_data_dict(out_file)\n",
    "\n",
    "# cycle trough genotypes\n",
    "for gen, df_gen in data.items():\n",
    "\n",
    "    dir_out = Path(cfg['plot_folder']) / 'fly_centric_coords/{}/'.format(gen)\n",
    "    dir_out.mkdir(parents=True, exist_ok=True)\n",
    "\n",
    "    # cycle through flies\n",
    "    for fly, df_fly in df_gen.groupby('flynum'):\n",
    "        utl.plot_coord_system(df_fly, path=dir_out / 'flynum_{}.png'.format(fly))\n"
   ]
  }
 ],
 "metadata": {
  "kernelspec": {
   "display_name": "base",
   "language": "python",
   "name": "python3"
  },
  "language_info": {
   "codemirror_mode": {
    "name": "ipython",
    "version": 3
   },
   "file_extension": ".py",
   "mimetype": "text/x-python",
   "name": "python",
   "nbconvert_exporter": "python",
   "pygments_lexer": "ipython3",
   "version": "3.9.16"
  },
  "orig_nbformat": 4
 },
 "nbformat": 4,
 "nbformat_minor": 2
}
